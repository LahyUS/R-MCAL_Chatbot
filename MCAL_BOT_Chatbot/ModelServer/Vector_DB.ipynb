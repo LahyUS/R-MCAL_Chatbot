{
 "cells": [
  {
   "cell_type": "markdown",
   "metadata": {
    "id": "cR79F6y8EDHk"
   },
   "source": [
    "# Config Session"
   ]
  },
  {
   "cell_type": "code",
   "execution_count": 1,
   "metadata": {
    "colab": {
     "base_uri": "https://localhost:8080/"
    },
    "id": "b0_Mze8HEHs2",
    "outputId": "f122184b-3031-4464-9b00-6a20f8f9ce95"
   },
   "outputs": [
    {
     "name": "stdout",
     "output_type": "stream",
     "text": [
      "Mon Nov 13 15:23:36 2023       \n",
      "+---------------------------------------------------------------------------------------+\n",
      "| NVIDIA-SMI 537.13                 Driver Version: 537.13       CUDA Version: 12.2     |\n",
      "|-----------------------------------------+----------------------+----------------------+\n",
      "| GPU  Name                     TCC/WDDM  | Bus-Id        Disp.A | Volatile Uncorr. ECC |\n",
      "| Fan  Temp   Perf          Pwr:Usage/Cap |         Memory-Usage | GPU-Util  Compute M. |\n",
      "|                                         |                      |               MIG M. |\n",
      "|=========================================+======================+======================|\n",
      "|   0  NVIDIA GeForce RTX 4090      WDDM  | 00000000:01:00.0  On |                  Off |\n",
      "|  0%   43C    P8              16W / 500W |   7793MiB / 24564MiB |      1%      Default |\n",
      "|                                         |                      |                  N/A |\n",
      "+-----------------------------------------+----------------------+----------------------+\n",
      "|   1  NVIDIA GeForce RTX 4090      WDDM  | 00000000:02:00.0 Off |                  Off |\n",
      "|  0%   35C    P8               9W / 500W |   5893MiB / 24564MiB |      0%      Default |\n",
      "|                                         |                      |                  N/A |\n",
      "+-----------------------------------------+----------------------+----------------------+\n",
      "                                                                                         \n",
      "+---------------------------------------------------------------------------------------+\n",
      "| Processes:                                                                            |\n",
      "|  GPU   GI   CI        PID   Type   Process name                            GPU Memory |\n",
      "|        ID   ID                                                             Usage      |\n",
      "|=======================================================================================|\n",
      "|    0   N/A  N/A      4808    C+G   ...crosoft\\Edge\\Application\\msedge.exe    N/A      |\n",
      "|    0   N/A  N/A      4836    C+G   ...ekyb3d8bbwe\\PhoneExperienceHost.exe    N/A      |\n",
      "|    0   N/A  N/A      6092    C+G   ...CBS_cw5n1h2txyewy\\TextInputHost.exe    N/A      |\n",
      "|    0   N/A  N/A      8252    C+G   ..._8wekyb3d8bbwe\\Microsoft.Photos.exe    N/A      |\n",
      "|    0   N/A  N/A     10060    C+G   C:\\Windows\\explorer.exe                   N/A      |\n",
      "|    0   N/A  N/A     10372    C+G   ...2txyewy\\StartMenuExperienceHost.exe    N/A      |\n",
      "|    0   N/A  N/A     11196    C+G   ....Search_cw5n1h2txyewy\\SearchApp.exe    N/A      |\n",
      "|    0   N/A  N/A     13256    C+G   ...siveControlPanel\\SystemSettings.exe    N/A      |\n",
      "|    0   N/A  N/A     14592      C   C:\\Program Files\\Python311\\python.exe     N/A      |\n",
      "|    1   N/A  N/A     14592      C   C:\\Program Files\\Python311\\python.exe     N/A      |\n",
      "+---------------------------------------------------------------------------------------+\n",
      "Windows-10-10.0.19044-SP0\n"
     ]
    },
    {
     "name": "stderr",
     "output_type": "stream",
     "text": [
      "C:\\Users\\rvc_sw_mss1_common\\Desktop\\test\\venv\\Lib\\site-packages\\numpy\\_distributor_init.py:30: UserWarning: loaded more than 1 DLL from .libs:\n",
      "C:\\Users\\rvc_sw_mss1_common\\Desktop\\test\\venv\\Lib\\site-packages\\numpy\\.libs\\libopenblas64__v0.3.21-gcc_10_3_0.dll\n",
      "C:\\Users\\rvc_sw_mss1_common\\Desktop\\test\\venv\\Lib\\site-packages\\numpy\\.libs\\libopenblas64__v0.3.23-246-g3d31191b-gcc_10_3_0.dll\n",
      "  warnings.warn(\"loaded more than 1 DLL from .libs:\"\n"
     ]
    },
    {
     "name": "stdout",
     "output_type": "stream",
     "text": [
      "2.0.1+cu118\n",
      "nvcc: NVIDIA (R) Cuda compiler driver\n",
      "Copyright (c) 2005-2022 NVIDIA Corporation\n",
      "Built on Wed_Sep_21_10:41:10_Pacific_Daylight_Time_2022\n",
      "Cuda compilation tools, release 11.8, V11.8.89\n",
      "Build cuda_11.8.r11.8/compiler.31833905_0\n"
     ]
    }
   ],
   "source": [
    "gpu_info = !nvidia-smi\n",
    "gpu_info = '\\n'.join(gpu_info)\n",
    "if gpu_info.find('failed') >= 0:\n",
    "  print('Not connected to a GPU')\n",
    "else:\n",
    "  print(gpu_info)\n",
    "\n",
    "import platform\n",
    "print(platform.platform())\n",
    "import torch\n",
    "print(torch.__version__)\n",
    "!nvcc --version"
   ]
  },
  {
   "cell_type": "code",
   "execution_count": 2,
   "metadata": {
    "colab": {
     "base_uri": "https://localhost:8080/"
    },
    "id": "yptzECxRESWz",
    "outputId": "ccfdfac4-57ee-489f-97a2-47e46d6accf8"
   },
   "outputs": [
    {
     "name": "stdout",
     "output_type": "stream",
     "text": [
      "Your runtime has 136.5 gigabytes of available RAM\n",
      "\n",
      "You are using a high-RAM runtime!\n"
     ]
    }
   ],
   "source": [
    "from psutil import virtual_memory\n",
    "ram_gb = virtual_memory().total / 1e9\n",
    "print('Your runtime has {:.1f} gigabytes of available RAM\\n'.format(ram_gb))\n",
    "\n",
    "if ram_gb < 20:\n",
    "  print('Not using a high-RAM runtime')\n",
    "else:\n",
    "  print('You are using a high-RAM runtime!')"
   ]
  },
  {
   "cell_type": "markdown",
   "metadata": {
    "id": "ToaVZu4pm6Mv"
   },
   "source": [
    "# SETUP Modules"
   ]
  },
  {
   "cell_type": "code",
   "execution_count": 3,
   "metadata": {
    "colab": {
     "base_uri": "https://localhost:8080/"
    },
    "id": "I-JGrMVS4PkG",
    "outputId": "439d8df9-1285-407a-92fa-b97dc0df7954"
   },
   "outputs": [],
   "source": [
    "######################\n",
    "#  MODEL & TOKENIZER #\n",
    "######################\n",
    "from transformers import LlamaTokenizer, LlamaForCausalLM, GenerationConfig, pipeline\n",
    "import torch\n",
    "from langchain.llms import HuggingFacePipeline\n",
    "from langchain.chains import RetrievalQA"
   ]
  },
  {
   "cell_type": "code",
   "execution_count": 4,
   "metadata": {
    "id": "c2IhCK_XhV6E"
   },
   "outputs": [],
   "source": [
    "####################\n",
    "# DOCUMENT LOADERS #\n",
    "####################\n",
    "from langchain.document_loaders import UnstructuredPDFLoader\n",
    "from langchain.document_loaders import PyPDFLoader as PyPDFLoader\n",
    "from langchain.document_loaders import PyMuPDFLoader as PyMuPDFLoader\n",
    "from langchain.text_splitter import CharacterTextSplitter"
   ]
  },
  {
   "cell_type": "code",
   "execution_count": 5,
   "metadata": {
    "id": "91BxjONcheT3"
   },
   "outputs": [],
   "source": [
    "####################\n",
    "#  VECTOR STORES   #\n",
    "####################\n",
    "from langchain.vectorstores import FAISS"
   ]
  },
  {
   "cell_type": "markdown",
   "metadata": {
    "id": "lvjjGvL9noEt"
   },
   "source": [
    "# LLM Model Initialization"
   ]
  },
  {
   "cell_type": "code",
   "execution_count": 6,
   "metadata": {
    "id": "8e3WJyrrK7id"
   },
   "outputs": [],
   "source": [
    "####################\n",
    "#  EMBEDDING       #\n",
    "####################\n",
    "embedding_path = \"C:\\\\Users\\\\rvc_sw_mss1_common\\\\Desktop\\\\test\\\\mcal-guru\\\\model\\\\bge-large-en-v1.5\"\n",
    "from langchain.embeddings import HuggingFaceEmbeddings\n",
    "embeddings = HuggingFaceEmbeddings(model_name=embedding_path)"
   ]
  },
  {
   "cell_type": "code",
   "execution_count": 7,
   "metadata": {
    "id": "DocZQGDn4lBY"
   },
   "outputs": [
    {
     "data": {
      "application/vnd.jupyter.widget-view+json": {
       "model_id": "bd874bd96108480591ec10e1947e4a60",
       "version_major": 2,
       "version_minor": 0
      },
      "text/plain": [
       "  0%|          | 0/1483 [00:00<?, ?w/s]"
      ]
     },
     "metadata": {},
     "output_type": "display_data"
    },
    {
     "name": "stderr",
     "output_type": "stream",
     "text": [
      "IOPub message rate exceeded.\n",
      "The Jupyter server will temporarily stop sending output\n",
      "to the client in order to avoid crashing it.\n",
      "To change this limit, set the config variable\n",
      "`--ServerApp.iopub_msg_rate_limit`.\n",
      "\n",
      "Current values:\n",
      "ServerApp.iopub_msg_rate_limit=1000.0 (msgs/sec)\n",
      "ServerApp.rate_limit_window=3.0 (secs)\n",
      "\n",
      "skip module injection for FusedLlamaMLPForQuantizedModel not support integrate without triton yet.\n"
     ]
    }
   ],
   "source": [
    "######################\n",
    "#  MODEL & TOKENIZER #\n",
    "#   INITIALIZATION   #\n",
    "######################\n",
    "model_dir = \"C:\\\\Users\\\\rvc_sw_mss1_common\\\\Desktop\\\\test\\\\mcal-guru\\\\model\\\\OpenOrca-Platypus2-13B-GPTQ\"\n",
    "\n",
    "from transformers import AutoTokenizer, pipeline, logging\n",
    "from auto_gptq import AutoGPTQForCausalLM, BaseQuantizeConfig\n",
    "from transformers import LlamaTokenizer, LlamaForCausalLM, GenerationConfig\n",
    "from transformers import AutoModelForCausalLM\n",
    "\n",
    "quantize_config = BaseQuantizeConfig(\n",
    "    bits=4,  # quantize model to 4-bit\n",
    "    #damp_percent= 0.01,\n",
    "    desc_act= False,\n",
    "    group_size=128,  # it is recommended to set the value to 128\n",
    ")\n",
    "\n",
    "#model = AutoGPTQForCausalLM.from_quantized(pretrained_model_name_or_path=model_dir,\n",
    "                                            #device=\"cuda:0\")\n",
    "\n",
    "model = AutoGPTQForCausalLM.from_quantized(\n",
    "    model_dir,\n",
    "    # strict=False,\n",
    "    use_triton=False,\n",
    "    map_device='auto',\n",
    "    use_safetensors=True,\n",
    "    quantize_config=quantize_config,\n",
    "    model_basename='model'\n",
    ")\n",
    "\n",
    "tokenizer = AutoTokenizer.from_pretrained(model_dir, map_device='auto')\n",
    "\n",
    "# 3m40s when using A100"
   ]
  },
  {
   "cell_type": "markdown",
   "metadata": {
    "id": "eVkR5DKanu70"
   },
   "source": [
    "# Handle Documents"
   ]
  },
  {
   "cell_type": "code",
   "execution_count": 8,
   "metadata": {
    "id": "V-j9VN43iflt"
   },
   "outputs": [],
   "source": [
    "######################\n",
    "#  FILE HANDLER      #\n",
    "######################\n",
    "import glob\n",
    "import pickle\n",
    "from langchain.storage import InMemoryStore"
   ]
  },
  {
   "cell_type": "code",
   "execution_count": 9,
   "metadata": {
    "colab": {
     "base_uri": "https://localhost:8080/"
    },
    "id": "2jd56GdRrZ-1",
    "outputId": "f56c9125-1b9b-40d6-d8f8-cd2142592163"
   },
   "outputs": [],
   "source": [
    "###############################################################################################\n",
    "#  PROCESS: # Split the documents into chunks\n",
    "###############################################################################################\n",
    "\n",
    "#text_splitter = CharacterTextSplitter(\n",
    "#    separator = \"\\n\",\n",
    "#    chunk_size = 1000,\n",
    "#    chunk_overlap  = 0,\n",
    "#    length_function = len,\n",
    "#  )\n",
    "#\n",
    "#child_text_splitter = CharacterTextSplitter(\n",
    "#    separator = \"\\n\",\n",
    "#    chunk_size = 2000,\n",
    "#    chunk_overlap  = 0,\n",
    "#    length_function = len,\n",
    "#  )\n",
    "#\n",
    "#parent_text_splitter = CharacterTextSplitter(\n",
    "#    separator = \"\\n\",\n",
    "#    chunk_size = 500,\n",
    "#    chunk_overlap  = 0,\n",
    "#    length_function = len,\n",
    "#  )\n",
    "#\n",
    "## The storage layer for parent docs\n",
    "#store = InMemoryStore()"
   ]
  },
  {
   "cell_type": "code",
   "execution_count": 10,
   "metadata": {
    "colab": {
     "base_uri": "https://localhost:8080/"
    },
    "id": "U07fuIqR22PK",
    "outputId": "e5d521af-3693-473d-c13b-9762e8aa9787"
   },
   "outputs": [
    {
     "name": "stdout",
     "output_type": "stream",
     "text": [
      "CPU times: total: 0 ns\n",
      "Wall time: 0 ns\n"
     ]
    }
   ],
   "source": [
    "%%time\n",
    "###############################################################################################\n",
    "#  PROCESS: Extract text from multiple PDF documents and save as .pickle file\n",
    "###############################################################################################\n",
    "\n",
    "# Read PDF file\n",
    "#directory_path = 'C:\\\\Users\\\\rvc_sw_mss1_common\\\\Desktop\\\\test\\\\mcal-guru\\\\01_Middle_Data\\\\02_Data_Input\\\\pdf\\\\'\n",
    "#vector_db_path = 'C:\\\\Users\\\\rvc_sw_mss1_common\\\\Desktop\\\\test\\\\mcal-guru\\\\01_Middle_Data\\\\02_Data_Input\\\\vector_db\\\\'\n",
    "#file_paths = glob.glob(directory_path + \"/*\")\n",
    "#docs = []\n",
    "#number = 0\n",
    "#for file_path in file_paths:\n",
    "#  if number%2 == 0:\n",
    "#    docs = []\n",
    "#  loader = PyPDFLoader(file_path)\n",
    "#  docs.extend(loader.load())\n",
    "#  texts = text_splitter.split_documents(docs)\n",
    "#  if number%2 == 1:\n",
    "#    # save the docs variable to a file\n",
    "#    with open(vector_db_path + '\\\\docs_' + str((number+1)/2) + '.pickle', 'wb') as f:\n",
    "#        pickle.dump(texts, f)\n",
    "#  number += 1"
   ]
  },
  {
   "cell_type": "code",
   "execution_count": 11,
   "metadata": {
    "colab": {
     "base_uri": "https://localhost:8080/"
    },
    "id": "zUAbJEWQ3NVC",
    "outputId": "d088686a-d636-40ab-ea29-af737912fc10"
   },
   "outputs": [],
   "source": [
    "#%%time\n",
    "################################################################################################\n",
    "##  PROCESS: Load documents from .pickle file\n",
    "################################################################################################\n",
    "#\n",
    "## use glob to get all the file paths in the directory\n",
    "#file_paths = glob.glob(vector_db_path + \"/*\")\n",
    "#\n",
    "#documents = []\n",
    "#number = 0\n",
    "#for file_path in file_paths:\n",
    "#  with open(file_path, 'rb') as f:\n",
    "#    text = pickle.load(f)\n",
    "#  documents.extend(text)\n",
    "#  number += 1\n",
    "#print(len(documents))\n",
    "#print(number)"
   ]
  },
  {
   "cell_type": "code",
   "execution_count": 12,
   "metadata": {
    "colab": {
     "base_uri": "https://localhost:8080/"
    },
    "id": "2Czg9C5hrsSe",
    "outputId": "31f235fa-b936-4133-a03a-d6e01bfa71d1"
   },
   "outputs": [
    {
     "name": "stdout",
     "output_type": "stream",
     "text": [
      "CPU times: total: 1.11 s\n",
      "Wall time: 1.1 s\n"
     ]
    }
   ],
   "source": [
    "%%time\n",
    "###############################################################################################\n",
    "#  PROCESS: # Split the documents into chunks\n",
    "###############################################################################################\n",
    "#db = FAISS.from_documents(document_1, embeddings\n",
    "db = FAISS.from_texts([\"This is just a demo texts\"], embeddings)\n",
    "\n",
    "# 29.5s when using A100"
   ]
  },
  {
   "cell_type": "code",
   "execution_count": 13,
   "metadata": {},
   "outputs": [],
   "source": [
    "indexed_data_path = 'C:\\\\Users\\\\rvc_sw_mss1_common\\\\Desktop\\\\test\\\\mcal-guru\\\\01_Middle_Data\\\\02_Data_Input\\\\vector_db//extracted_data.pkl'\n",
    "with open(indexed_data_path, 'rb') as f:\n",
    "    indexed_data = pickle.load(f)"
   ]
  },
  {
   "cell_type": "code",
   "execution_count": 16,
   "metadata": {
    "scrolled": true
   },
   "outputs": [
    {
     "name": "stdout",
     "output_type": "stream",
     "text": [
      "\n",
      "\n",
      "[DEBUG] page_content: ['Test program:  In the \"Gentool Unit Test\" phase of MCAL development, the \"Test program .cs .fakes\" refers to the files used for writing and conducting unit tests for the Generation Tool (Gentool). These files are an essential part of the testing process to ensure the correctness and reliability of the Generation Tool\\'s functionalities.\\n\\n1. Test Program (.cs):\\nThe \".cs\" files in the \"Gentool Unit Test\" phase are C# source code files that contain the unit test cases. These test cases are designed to verify the individual units or components of the Generation Tool in isolation. The test program includes test methods that exercise various functionalities of the Gentool, simulating different scenarios and inputs. Each test method focuses on testing a specific feature or behavior of the tool. The test program interacts with the Generation Tool through its API or interfaces, checking the expected outputs against the actual results.\\n\\n2. Fakes Framework (.fakes):\\nThe \".fakes\" files are part of the Microsoft Fakes framework used in C# unit testing. This framework allows the creation of \"shims\" and \"stubs\" to isolate the Generation Tool from its dependencies during testing. By creating shims and stubs, the unit test can replace external dependencies, such as file I/O operations or network calls, with mock implementations. This isolation ensures that the unit tests focus solely on testing the functionality of the Generation Tool itself, without interference from external factors.\\n\\nTogether, the \"Test program .cs .fakes\" enables developers and testing teams to perform rigorous unit testing of the Generation Tool. These tests help identify and fix bugs, verify the correct behavior of the tool, and ensure that it meets the specified requirements. Through unit testing, any issues in the Generation Tool\\'s implementation can be detected early in the development process, leading to improved software quality and reliability.\\n\\nIt\\'s important to maintain and update the unit tests as the Generation Tool evolves and new features are added. Effective unit testing practices contribute to the overall stability and robustness of the MCAL software, ensuring a successful and reliable integration of the Generation Tool into the final product. *.cs; *.fakes Please refer document : http://172.29.139.78/sw_rh850_mcal/X2x/X2x_Commonize/100_User/3121_ThienHuynh/07_UnitTest/02_TUT Please refer document : http://172.29.139.78/sw_rh850_mcal/X2x/X2x_Commonize/100_User/3121_ThienHuynh/07_UnitTest/02_TUT']\n",
      "[DEBUG] metadata: [{'source': 'WpsTUT', 'page': []}]\n",
      "\n",
      "\n",
      "[DEBUG] page_content: ['UD:  I n   R e n e s a s   M i c r o c o n t r o l l e r   A b s t r a c t i o n   L a y e r   ( M C A L )   d e v e l o p m e n t ,   t h e   \" U D \"   p h a s e   s t a n d s   f o r   \" U n i t   D e s i g n . \"   T h e   \" U D \"   p h a s e   i s   a   c r u c i a l   s t e p   i n   t h e   M C A L   d e v e l o p m e n t   p r o c e s s   w h e r e   t h e   d e t a i l e d   d e s i g n   o f   i n d i v i d u a l   s o f t w a r e   u n i t s   o r   m o d u l e s   i s   c a r r i e d   o u t .   D u r i n g   t h i s   p h a s e ,   e a c h   m o d u l e \\' s   f u n c t i o n a l i t y   a n d   b e h a v i o r   a r e   d e f i n e d ,   a n d   t h e   i m p l e m e n t a t i o n   d e t a i l s   a r e   s p e c i f i e d . \\n \\n D e s c r i p t i o n   o f   t h e   \" U D \"   P h a s e   i n   R e n e s a s   M C A L : \\n \\n 1 .   D e t a i l e d   M o d u l e   D e s i g n :   T h e   \" U D \"   p h a s e   s t a r t s   w i t h   t h e   d e t a i l e d   d e s i g n   o f   e a c h   s o f t w a r e   m o d u l e   i d e n t i f i e d   d u r i n g   t h e   \" A D \"   ( A r c h i t e c t u r e   D e s i g n )   p h a s e .   E a c h   m o d u l e \\' s   r e s p o n s i b i l i t i e s ,   i n p u t s ,   o u t p u t s ,   d a t a   s t r u c t u r e s ,   a n d   a l g o r i t h m s   a r e   d e f i n e d   i n   d e t a i l .   T h i s   i n c l u d e s   s p e c i f y i n g   t h e   f u n c t i o n s   a n d   t h e i r   s i g n a t u r e s ,   v a r i a b l e   d e c l a r a t i o n s ,   a n d   c o n s t a n t s   u s e d   w i t h i n   t h e   m o d u l e . \\n \\n 2 .   A l g o r i t h m   S e l e c t i o n :   T h e   \" U D \"   p h a s e   i n v o l v e s   s e l e c t i n g   s u i t a b l e   a l g o r i t h m s   a n d   d a t a   s t r u c t u r e s   t o   i m p l e m e n t   t h e   m o d u l e \\' s   f u n c t i o n a l i t y   e f f i c i e n t l y .   T h e   a l g o r i t h m s   a r e   c h o s e n   b a s e d   o n   f a c t o r s   s u c h   a s   p e r f o r m a n c e   r e q u i r e m e n t s ,   m e m o r y   c o n s t r a i n t s ,   a n d   f u n c t i o n a l   c o r r e c t n e s s . \\n \\n 3 .   I n t e r f a c e   R e f i n e m e n t :   T h e   i n t e r f a c e s   b e t w e e n   t h e   m o d u l e s   a r e   f u r t h e r   r e f i n e d   d u r i n g   t h e   \" U D \"   p h a s e .   T h e   d a t a   f o r m a t s ,   f u n c t i o n   c a l l s ,   a n d   c o m m u n i c a t i o n   p r o t o c o l s   a r e   p r e c i s e l y   d e f i n e d   t o   e n s u r e   s e a m l e s s   i n t e r a c t i o n   b e t w e e n   d i f f e r e n t   m o d u l e s . \\n \\n 4 .   D a t a   F l o w   a n d   C o n t r o l   F l o w   D e s i g n :   T h e   d a t a   f l o w   a n d   c o n t r o l   f l o w   w i t h i n   e a c h   m o d u l e   a r e   m e t i c u l o u s l y   d e s i g n e d .   T h i s   i n c l u d e s   d e f i n i n g   h o w   d a t a   i s   p r o c e s s e d ,   m o d i f i e d ,   a n d   t r a n s f e r r e d   w i t h i n   t h e   m o d u l e .   C o n t r o l   f l o w   l o g i c ,   s u c h   a s   l o o p s   a n d   c o n d i t i o n a l s ,   i s   a l s o   s p e c i f i e d . \\n \\n 5 .   E r r o r   H a n d l i n g   a n d   R e c o v e r y :   T h e   \" U D \"   p h a s e   a d d r e s s e s   e r r o r   h a n d l i n g   a n d   r e c o v e r y   m e c h a n i s m s   f o r   e a c h   m o d u l e .   T h i s   i n v o l v e s   d e f i n i n g   h o w   t h e   m o d u l e   d e t e c t s   a n d   h a n d l e s   e r r o r s   o r   e x c e p t i o n a l   c o n d i t i o n s .   E r r o r   c o d e s   a n d   e r r o r   r e c o v e r y   s t r a t e g i e s   a r e   s p e c i f i e d . \\n \\n 6 .   C o d e   O r g a n i z a t i o n :   T h e   \" U D \"   p h a s e   i n v o l v e s   o r g a n i z i n g   t h e   c o d e   w i t h i n   e a c h   m o d u l e   t o   e n s u r e   r e a d a b i l i t y ,   m a i n t a i n a b i l i t y ,   a n d   c o d e   r e u s e .   C o d e   o r g a n i z a t i o n   i n c l u d e s   d i v i d i n g   t h e   m o d u l e   i n t o   s m a l l e r   f u n c t i o n s ,   g r o u p i n g   r e l a t e d   c o d e   t o g e t h e r ,   a n d   u s i n g   p r o p e r   n a m i n g   c o n v e n t i o n s . \\n \\n 7 .   M e m o r y   M a n a g e m e n t :   M e m o r y   m a n a g e m e n t   i s   c o n s i d e r e d   d u r i n g   t h e   \" U D \"   p h a s e   t o   e n s u r e   e f f i c i e n t   m e m o r y   u s a g e .   T h i s   i n c l u d e s   d e f i n i n g   d a t a   s t r u c t u r e s   a n d   v a r i a b l e s   b a s e d   o n   m e m o r y   r e q u i r e m e n t s   a n d   a l i g n m e n t . \\n \\n 8 .   C o d e   O p t i m i z a t i o n :   T h e   \" U D \"   p h a s e   a l s o   f o c u s e s   o n   c o d e   o p t i m i z a t i o n   t e c h n i q u e s   t o   i m p r o v e   t h e   m o d u l e \\' s   p e r f o r m a n c e   a n d   r e d u c e   r e s o u r c e   c o n s u m p t i o n .   T e c h n i q u e s   s u c h   a s   l o o p   u n r o l l i n g ,   f u n c t i o n   i n l i n i n g ,   a n d   c o d e   s i z e   r e d u c t i o n   a r e   a p p l i e d   a s   n e e d e d . \\n \\n 9 .   S a f e t y   C o n s i d e r a t i o n s :   I f   t h e   M C A L   s o f t w a r e   i s   u s e d   i n   s a f e t y - c r i t i c a l   s y s t e m s ,   s a f e t y   c o n s i d e r a t i o n s   a r e   t a k e n   i n t o   a c c o u n t   d u r i n g   t h e   \" U D \"   p h a s e .   S a f e t y   m e a s u r e s ,   s u c h   a s   f a u l t   d e t e c t i o n   a n d   e r r o r   h a n d l i n g ,   a r e   i m p l e m e n t e d   t o   e n s u r e   t h e   s o f t w a r e \\' s   s a f e t y   c o m p l i a n c e . \\n \\n 1 0 .   C o d e   R e v i e w   a n d   V a l i d a t i o n :   T h e   d e t a i l e d   m o d u l e   d e s i g n s   a r e   s u b j e c t   t o   t h o r o u g h   c o d e   r e v i e w   a n d   v a l i d a t i o n   t o   i d e n t i f y   a n d   r e c t i f y   p o t e n t i a l   i s s u e s   e a r l y   i n   t h e   d e v e l o p m e n t   p r o c e s s . \\n \\n 1 1 .   D o c u m e n t a t i o n :   C o m p r e h e n s i v e   d o c u m e n t a t i o n   i s   p r e p a r e d   d u r i n g   t h e   \" U D \"   p h a s e   t o   d e s c r i b e   t h e   d e t a i l e d   d e s i g n s   o f   e a c h   m o d u l e .   T h i s   d o c u m e n t a t i o n   s e r v e s   a s   a   r e f e r e n c e   f o r   d e v e l o p e r s ,   t e s t e r s ,   a n d   o t h e r   s t a k e h o l d e r s . \\n \\n T h e   \" U D \"   p h a s e   e n s u r e s   t h a t   e a c h   s o f t w a r e   m o d u l e   i n   t h e   M C A L   i s   w e l l - d e s i g n e d ,   r e l i a b l e ,   a n d   a l i g n e d   w i t h   t h e   a r c h i t e c t u r a l   d e s i g n .   B y   p r o v i d i n g   d e t a i l e d   s p e c i f i c a t i o n s   a n d   i m p l e m e n t a t i o n   g u i d e l i n e s ,   t h e   \" U D \"   p h a s e   f a c i l i t a t e s   e f f i c i e n t   c o d i n g   a n d   t e s t i n g   i n   t h e   s u b s e q u e n t   p h a s e s   o f   t h e   M C A L   d e v e l o p m e n t   p r o c e s s .']\n",
      "[DEBUG] metadata: [{'source': 'WpsUD', 'page': []}]\n",
      "\n",
      "\n",
      "[DEBUG] page_content: ['Tool Unit Design - TUD:  In the context of MCAL (Microcontroller Abstraction Layer) development, \"Tool Unit Design (TUD)\" refers to the process of designing and developing tools or utilities that are used to support various aspects of MCAL development and testing. These tools play a crucial role in enhancing the efficiency, accuracy, and effectiveness of the development process.\\n\\nKey characteristics and features of \"Tool Unit Design (TUD)\" in MCAL include:\\n\\n1. Purposeful Functionality: TUD involves the design and implementation of tools that serve specific purposes, such as code generation, configuration management, testing automation, debugging, and performance analysis. Each tool is developed with a well-defined set of functionalities to address particular development needs.\\n\\n2. Seamless Integration: The tools designed in the TUD process are intended to seamlessly integrate with the MCAL development environment and other relevant tools used in the software development lifecycle. This integration ensures a smooth workflow and minimizes disruptions during development.\\n\\n3. Modularity and Reusability: TUD emphasizes the development of modular and reusable tools. Modularity allows different components of the tools to work independently, while reusability enables the same tool to be applied in various projects or across different development stages.\\n\\n4. Automation: Many tools in the TUD process are designed to automate repetitive and time-consuming tasks, thereby reducing manual effort and human errors. Automated tools contribute to faster development cycles and increased productivity.\\n\\n5. User-Friendly Interface: The user interface of the tools is designed to be user-friendly and intuitive. It allows developers and testers to interact with the tools easily and perform tasks with minimal training or technical expertise.\\n\\n6. Traceability and Logging: TUD tools often incorporate traceability and logging features, enabling the tracking of actions performed using the tools and generating detailed logs for analysis and debugging purposes.\\n\\n7. Quality Assurance: TUD tools can be instrumental in performing various quality assurance activities, such as static code analysis, code coverage measurement, and runtime analysis, to ensure the quality and reliability of the MCAL software.\\n\\n8. Continuous Improvement: The TUD process emphasizes continuous improvement and enhancement of existing tools based on feedback from users and evolving development requirements. Regular updates and refinements ensure that the tools remain relevant and effective.\\n\\n9. Compliance and Standardization: TUD tools are developed in alignment with relevant industry standards and guidelines to support compliance with automotive-specific requirements and regulations.\\n\\nOverall, \"Tool Unit Design (TUD)\" in MCAL plays a vital role in streamlining the development process, improving the efficiency of developers, and facilitating the delivery of high-quality and reliable MCAL software for automotive systems. ASR_MCAL_[MSN]_GenTool_UD.docx\\nASR_MCAL_[MSN]_GenTool_UD_Figure.eap Please refer document in  http://172.29.139.78/sw_rh850_mcal/X2x/X2x_Commonize/100_User/3121_ThienHuynh/05_UnitDesign/02_TUD GentoolUD_guideline.pptx\\nGuideline_Update_Generation_Rule.pptx']\n",
      "[DEBUG] metadata: [{'source': 'WpsUD', 'page': []}]\n"
     ]
    }
   ],
   "source": [
    "i = 0\n",
    "sub_data = indexed_data[30467:30472:2]\n",
    "for item in sub_data:\n",
    "    page_content = [item['page_content']]\n",
    "    metadata = [item['metadata']]\n",
    "    print(f\"\\n\\n[DEBUG] page_content: {page_content}\")\n",
    "    print(f\"[DEBUG] metadata: {metadata}\")"
   ]
  },
  {
   "cell_type": "code",
   "execution_count": 12,
   "metadata": {},
   "outputs": [
    {
     "name": "stdout",
     "output_type": "stream",
     "text": [
      "CPU times: total: 7min 7s\n",
      "Wall time: 7min 5s\n"
     ]
    }
   ],
   "source": [
    "%%time\n",
    "# Copy indexed_data to create the vector database\n",
    "for item in indexed_data:\n",
    "    page_content = [item['page_content']]\n",
    "    metadata = [item['metadata']]\n",
    "    db.add_texts(texts=page_content, metadatas=metadata, embdeding=embeddings)"
   ]
  },
  {
   "cell_type": "code",
   "execution_count": 13,
   "metadata": {},
   "outputs": [
    {
     "name": "stdout",
     "output_type": "stream",
     "text": [
      "\n",
      "\n",
      "####################################\n",
      "[DEBUG] type of doc: <class 'tuple'>\n",
      "[DEBUG] sim score: 0.5729751586914062\n",
      "(Document(page_content='Configuration files:  In the \"Driver Integrated Test\" phase of MCAL development, the \"Configuration files\" refer to the \"*.arxml\" files that contain the AUTOSAR (AUTomotive Open System ARchitecture) XML-based configuration data. These files play a crucial role in configuring and initializing the MCAL drivers and other software components of the automotive application. The \"Configuration files\" typically include the following key information: 1. Software Component Configuration: The \"*.arxml\" files define the configuration parameters for each MCAL driver and other software components used in the application. These parameters include various settings, constants, and options that tailor the behavior of the drivers to meet specific requirements. 2. Hardware Configuration: The files may also contain information related to the hardware architecture and platform on which the MCAL drivers will be executed. This includes the configuration of hardware modules, memory maps, and other hardware-specific settings. 3. Communication Settings: In case the MCAL drivers are involved in communication protocols (e.g., CAN, LIN, Ethernet), the \"*.arxml\" files define the communication settings, such as message IDs, baud rates, and message filtering rules. 4. Timing and Scheduling Configuration: The configuration files may specify timing and scheduling parameters for the MCAL drivers, ensuring proper synchronization and coordination with other software components in the application. 5. Calibration and Measurement Data: If the MCAL drivers support calibration or measurement functionalities, the \"*.arxml\" files may include calibration parameters and measurement data configurations. 6. Variant and Parameter Sets: The configuration files may also support variant and parameter sets, allowing different configurations to be used for different application scenarios or variants of the software. 7. Error Handling and Diagnostics: The configuration files may define error handling and diagnostic settings for the MCAL drivers, including error reporting mechanisms and diagnostic event configurations. 8. Integration with Other Software Components: The \"*.arxml\" files facilitate the integration of MCAL drivers with other AUTOSAR software components within the application. The \"Configuration files\" are crucial in ensuring that the MCAL drivers are correctly configured and aligned with the overall application requirements. They serve as a bridge between the software design and the actual hardware platform, allowing seamless integration and optimal utilization of the automotive embedded systems. During the \"Driver Integrated Test\" phase, the configuration files are validated to verify that the MCAL drivers are functioning correctly within the specified configurations. Testing includes verification of various driver functionalities, communication protocols, timing, and proper interaction with other software components. Any discrepancies or issues identified during testing are resolved, and the configuration files are refined to meet the final requirements of the application. Overall, the \"Configuration files\" are essential artifacts in the MCAL development process, ensuring the successful deployment of the drivers in the target automotive system and contributing to the overall performance, safety, and reliability of the vehicle\\'s electronic systems. *.arxml', metadata={'source': 'SMLV2', 'page': []}), 0.57297516)\n",
      "\n",
      "\n",
      "####################################\n",
      "[DEBUG] type of doc: <class 'tuple'>\n",
      "[DEBUG] sim score: 0.5729751586914062\n",
      "(Document(page_content='Configuration files:  In the \"Driver Integrated Test\" phase of MCAL development, the \"Configuration files\" refer to the \"*.arxml\" files that contain the AUTOSAR (AUTomotive Open System ARchitecture) XML-based configuration data. These files play a crucial role in configuring and initializing the MCAL drivers and other software components of the automotive application.\\n\\nThe \"Configuration files\" typically include the following key information:\\n\\n1. Software Component Configuration: The \"*.arxml\" files define the configuration parameters for each MCAL driver and other software components used in the application. These parameters include various settings, constants, and options that tailor the behavior of the drivers to meet specific requirements.\\n\\n2. Hardware Configuration: The files may also contain information related to the hardware architecture and platform on which the MCAL drivers will be executed. This includes the configuration of hardware modules, memory maps, and other hardware-specific settings.\\n\\n3. Communication Settings: In case the MCAL drivers are involved in communication protocols (e.g., CAN, LIN, Ethernet), the \"*.arxml\" files define the communication settings, such as message IDs, baud rates, and message filtering rules.\\n\\n4. Timing and Scheduling Configuration: The configuration files may specify timing and scheduling parameters for the MCAL drivers, ensuring proper synchronization and coordination with other software components in the application.\\n\\n5. Calibration and Measurement Data: If the MCAL drivers support calibration or measurement functionalities, the \"*.arxml\" files may include calibration parameters and measurement data configurations.\\n\\n6. Variant and Parameter Sets: The configuration files may also support variant and parameter sets, allowing different configurations to be used for different application scenarios or variants of the software.\\n\\n7. Error Handling and Diagnostics: The configuration files may define error handling and diagnostic settings for the MCAL drivers, including error reporting mechanisms and diagnostic event configurations.\\n\\n8. Integration with Other Software Components: The \"*.arxml\" files facilitate the integration of MCAL drivers with other AUTOSAR software components within the application.\\n\\nThe \"Configuration files\" are crucial in ensuring that the MCAL drivers are correctly configured and aligned with the overall application requirements. They serve as a bridge between the software design and the actual hardware platform, allowing seamless integration and optimal utilization of the automotive embedded systems.\\n\\nDuring the \"Driver Integrated Test\" phase, the configuration files are validated to verify that the MCAL drivers are functioning correctly within the specified configurations. Testing includes verification of various driver functionalities, communication protocols, timing, and proper interaction with other software components. Any discrepancies or issues identified during testing are resolved, and the configuration files are refined to meet the final requirements of the application.\\n\\nOverall, the \"Configuration files\" are essential artifacts in the MCAL development process, ensuring the successful deployment of the drivers in the target automotive system and contributing to the overall performance, safety, and reliability of the vehicle\\'s electronic systems. *.arxml Please refer material in : http://172.29.139.78/sw_rh850_mcal/X2x/X2x_Commonize/100_User/3121_ThienHuynh/08_IntergrationTest/01_DIT Please refer material in : http://172.29.139.78/sw_rh850_mcal/X2x/X2x_Commonize/100_User/3121_ThienHuynh/08_IntergrationTest/01_DIT', metadata={'source': 'WpsDIT', 'page': []}), 0.57297516)\n"
     ]
    }
   ],
   "source": [
    "res_docs = db.similarity_search_with_score(query=\"is VIN included in MCAL Software\", k=2)\n",
    "for doc in res_docs:\n",
    "    print(\"\\n\\n####################################\")\n",
    "    print(f\"[DEBUG] type of doc: {type(doc)}\")\n",
    "    print(f\"[DEBUG] sim score: {doc[1]}\")\n",
    "    print(doc)\n",
    "    "
   ]
  },
  {
   "cell_type": "code",
   "execution_count": 19,
   "metadata": {},
   "outputs": [
    {
     "name": "stdout",
     "output_type": "stream",
     "text": [
      "\n",
      "\n",
      "####################################\n",
      "(Document(page_content='This is just a demo texts'), 0.85889506)\n",
      "\n",
      "\n",
      "####################################\n",
      "(Document(page_content='0 Other setting is prohibited :  0 Other setting is prohibited ', metadata={'source': '3. Pin Assignment ', 'page': '4'}), 0.95692384)\n"
     ]
    }
   ],
   "source": [
    "res_docs = db.similarity_search_with_score(query=\"Hello, could you tell me something that could possibly make me fun\", k=2)\n",
    "for doc in res_docs:\n",
    "    print(\"\\n\\n####################################\")\n",
    "    print(doc)"
   ]
  },
  {
   "cell_type": "code",
   "execution_count": 21,
   "metadata": {},
   "outputs": [
    {
     "name": "stdout",
     "output_type": "stream",
     "text": [
      "\n",
      "\n",
      "####################################\n",
      "(Document(page_content=\"1.2.3 Debug and Trace :  Item Description  'HEXJD QG7U•-7$*LQWHUIDFH   6XSSRUWVS GLQ H G- L7$FD* WH G6:' DQG/3'  $GGLWLP RX QO DWLOSS- O7$*SLH Q[H GR UW •7KHFURVVWULJIR JHOO URZL IX QQ FJ WL, R3 QV E HWZHH  &RUW$H[&38Q  &RUW5H[&38Q  9LVLRQ'63&(9$63\\x8c  ,03  &RUH6LJKW  ,&80 ; 3$6\\\\3 VWHP •7UDFLQJIXQFWLRQ  *ESVRU*ESV+6673 RXWSX  *ESVRU*ESV+6673ODQ RH XWS X  *ESRUV*ESV(75RXWS XWEDQG  *ESVRU*ESV(75ROD XQ WH S XWE  .E \\\\WHHPEHGGHG$W UD FH),)2IR  .E \\\\WHHPHE)HG, G) H2 GI5WR UDU&RFUWH[  .E \\\\WHHPEHGGHGW UDFH),)2IR  .E \\\\WHHPEHGGHGWUDF63 H)\\x8c ,) 2IR  6\\\\VWHP7UDFH0DFUR FHOO,630 •6HFXUH GHEXJ  'HEXJJLQJLVGLVDEOHGLIVHFXU HQDEOHGZLWKVHFXUHGHEXJJLQJDXWK /VW3'DQGVIRU/RZ3LQ'H EXJZKLFKLVXVHGIRU,&8 $YDLODEt Oab Hle fro Em e Dithe Qr 5 GGb Zps p Ler Glan WKe or 2 .5G Vbp Hs p Oer Hlan Fe $YDLODEt Oab Hle fro Em e Dithe Qr 5 GGb Zps p Ler Glan WKe or 2 .5G Vbp Hs p Oer Hlan Fe $YDLODEt Oab Hle fro Em e Dithe Qr 1 G6G Zbps Lpe Gr lan WKe or 8G Vbp Hs pe Or Hlane F $YDLODEt Oab Hle fro Em e Dithe Qr 1 G6G Zbps Lpe Gr lan WKe or 8G Vbp Hs pe Or Hlane F 6HFXUHHQJLQHGHILQHV/LIH&\\\\FOH 6WDWH/&66H 58+(-5HY58+(-5HY58+(-  $SU$SU$SU  Under Development RENESAS CONFIDENTIAL 5&DU*HQ6HULHV5&DU*HQ6HULHV5&DU*HQV 2\", metadata={'source': 'r19uh0186ej0080-r-carv4h', 'page': '14'}), 0.70869577)\n",
      "\n",
      "\n",
      "####################################\n",
      "(Document(page_content='5.2.4.12 [SRS_BSW_00334] All Basic Software Modules shall provide an XML file that contains the meta data :  ⌈  ⌋(RS_BRF_01032) ', metadata={'source': 'AUTOSAR_SRS_BSWGeneral', 'page': '80'}), 0.71644974)\n"
     ]
    }
   ],
   "source": [
    "res_docs = db.similarity_search_with_score(query=\"Give me the source code of the Snake game\", k=2)\n",
    "for doc in res_docs:\n",
    "    print(\"\\n\\n####################################\")\n",
    "    print(doc)"
   ]
  },
  {
   "cell_type": "markdown",
   "metadata": {
    "id": "BxceJ6kM4YP4"
   },
   "source": [
    "# **Set Up QA Chain Tool**"
   ]
  },
  {
   "cell_type": "markdown",
   "metadata": {
    "id": "NUAj1xQdEiCJ"
   },
   "source": [
    "## Init Chain"
   ]
  },
  {
   "cell_type": "code",
   "execution_count": 15,
   "metadata": {},
   "outputs": [],
   "source": [
    "from langchain.chains import ConversationalRetrievalChain\n",
    "from langchain.retrievers.multi_query import MultiQueryRetriever\n",
    "from langchain.retrievers import ParentDocumentRetriever\n"
   ]
  },
  {
   "cell_type": "code",
   "execution_count": 18,
   "metadata": {
    "id": "qhwZcXDTA01f"
   },
   "outputs": [],
   "source": [
    "################################\n",
    "#  QA Retriver initialization  #\n",
    "################################\n",
    "\n",
    "\n",
    "\n",
    "retriever = db.as_retriever(search_type=\"similarity\", search_kwargs={\"k\":2})\n",
    "qa = ConversationalRetrievalChain.from_llm(llm=llm_local, retriever=retriever)"
   ]
  },
  {
   "cell_type": "code",
   "execution_count": 19,
   "metadata": {
    "id": "y3GuA7yY2_wG"
   },
   "outputs": [],
   "source": [
    "chat_history = []\n",
    "def qa_run(query):\n",
    "    result = qa({\"question\": query, \"chat_history\": chat_history})\n",
    "    chat_history.append((query, result[\"answer\"]))\n",
    "    return result[\"answer\"]"
   ]
  },
  {
   "cell_type": "code",
   "execution_count": 20,
   "metadata": {
    "colab": {
     "base_uri": "https://localhost:8080/",
     "height": 209
    },
    "id": "94LD11_Slajl",
    "outputId": "9e012d6f-0857-45fd-eec0-a77990282ec3"
   },
   "outputs": [
    {
     "name": "stdout",
     "output_type": "stream",
     "text": [
      "CPU times: total: 13.8 s\n",
      "Wall time: 9 s\n"
     ]
    },
    {
     "data": {
      "text/plain": [
       "' ADC_Init is a function provided by the ADC driver which initializes the internal Analogue Digital Converter unit(s) of the microcontroller. This function sets up the necessary parameters and configurations for the ADC to operate correctly. It is typically called before any other ADC functions are utilized.'"
      ]
     },
     "execution_count": 20,
     "metadata": {},
     "output_type": "execute_result"
    }
   ],
   "source": [
    "%%time\n",
    "qa_run(\"What is ADC_Init?\")"
   ]
  },
  {
   "cell_type": "code",
   "execution_count": 21,
   "metadata": {
    "colab": {
     "base_uri": "https://localhost:8080/",
     "height": 140
    },
    "id": "-9Rs3PEcjpWK",
    "outputId": "aff159cd-d443-4154-f730-871ec6259a36"
   },
   "outputs": [
    {
     "name": "stdout",
     "output_type": "stream",
     "text": [
      "CPU times: total: 29.6 s\n",
      "Wall time: 16.7 s\n"
     ]
    },
    {
     "data": {
      "text/plain": [
       "' ADC_Init is responsible for initializing and configuring the internal Analogue Digital Converter unit(s) within the microcontroller. This includes starting and stopping conversions, enabling and disabling the trigger source, controlling the notification function, and checking the status and results of conversions. In summary, ADC_Init sets up the analog-to-digital converter by preparing its components and establishing communication between them.'"
      ]
     },
     "execution_count": 21,
     "metadata": {},
     "output_type": "execute_result"
    }
   ],
   "source": [
    "%%time\n",
    "query = \"What is SRS_Adc_12307 in AUTOSAR?\"\n",
    "result = qa({\"question\": query, \"chat_history\": chat_history})\n",
    "chat_history.append((query, result[\"answer\"]))\n",
    "result[\"answer\"]"
   ]
  },
  {
   "cell_type": "code",
   "execution_count": null,
   "metadata": {},
   "outputs": [],
   "source": [
    "## MultiQueryRetriever"
   ]
  },
  {
   "cell_type": "code",
   "execution_count": 33,
   "metadata": {},
   "outputs": [],
   "source": [
    "################################\n",
    "#  QA Retriver initialization  #\n",
    "################################\n",
    "\n",
    "\n",
    "retriever = db.as_retriever(search_type=\"similarity\", search_kwargs={\"k\":2})\n"
   ]
  },
  {
   "cell_type": "code",
   "execution_count": 34,
   "metadata": {},
   "outputs": [],
   "source": [
    "import logging\n",
    "logging.basicConfig()\n",
    "logging.getLogger(\"langchain.retrievers\").setLevel(logging.INFO)"
   ]
  },
  {
   "cell_type": "code",
   "execution_count": 38,
   "metadata": {},
   "outputs": [
    {
     "name": "stdout",
     "output_type": "stream",
     "text": [
      "[Document(page_content='Requirements on ADC Driver  \\nAUTOSAR CP R21-11    \\n \\n \\n12 of 22 Document ID 111: AUTOSAR_SRS_ADCDriver  \\n   \\n5 Requirements Tracing  \\n \\n \\nRequirement  Description  Satisfied by  \\nRS_BRF_01184  AUTOSAR shall support \\ndifferent methods of \\ndegradation  SRS_ADC_12826, SRS_ADC_12827, \\nSRS_ADC_12828, SRS_ADC_12829  \\nRS_BRF_01448  AUTOSAR services shall \\nsupport mode and state \\nmanagement  SRS_ADC_12826, SRS_ADC_12827, SRS_ADC_12828  \\nRS_BRF_01872  AUTOSAR \\nmicrocontroller \\nabstraction shall provide \\nmapping of I/O signals to \\nanalog/digital converter \\nports  SRS_Adc_12280, SRS_Adc_12283, SRS_Adc_12288, \\nSRS_Adc_12291, SRS_Adc_12292, SRS_Adc_12307, \\nSRS_Adc_12317, SRS_Adc_12318, SRS_Adc_12364, \\nSRS_Adc_12447, SRS_Adc_12802, SRS_Adc_12817, \\nSRS_Adc_12818, SRS_Adc_12819, SRS_Adc_12820, \\nSRS_Adc_12821, SRS_Adc_12822, SRS_Adc_12823, \\nSRS_Adc_12824, SRS_Adc_12825  \\nRS_BRF_01952  AUTOSAR IO Hardware \\nAbstraction sh all support \\nstandardized modes for \\nconnected I/O devices  SRS_ADC_12829', metadata={'source': 'C:\\\\Users\\\\rvc_sw_mss1_common\\\\Desktop\\\\test\\\\mcal-guru\\\\01_Middle_Data\\\\02_Data_Input\\\\pdf\\\\AUTOSAR_SRS_ADCDriver.pdf', 'page': 11}), Document(page_content='Requirements on ADC Driver  \\nAUTOSAR CP R21-11    \\n \\n \\n17 of 22 Document ID 111: AUTOSAR_SRS_ADCDriver  \\n   \\n⌋( RS_BRF_01872 ) \\n \\n6.1.2.6  [SRS_Adc_ 12291 ] The ADC Driver shall provide a service for querying \\nthe status of an ADC Channel Group  \\n⌈ \\nType:  Valid  \\nDescription:  The ADC Driver shall provide a service for querying  the status of an  ADC \\nChannel Group . \\nThe ADC channel gro up status shall be  one o ut of following four: \\n\\uf0b7 Idle. \\n\\uf0b7 Busy (conversion ongoing) . \\n\\uf0b7 Completed . \\n\\uf0b7 Stream Completed.  \\nRationale:  Before reading a value it might be necessary to query  the status of the ADC.  \\nUse Case:  The status can be used for access synchronization.  \\nDependencies:  -- \\nSupporting Material:  -- \\n⌋( RS_BRF_01872 ) \\n \\n6.1.2.7  [SRS_Adc_ 12318 ] The ADC driver shall provide a service to enable and \\ndisable each notification function separately  \\n⌈ \\nType:  Valid  \\nDescription:  The ADC driver shall provide a service to enable and disable each', metadata={'source': 'C:\\\\Users\\\\rvc_sw_mss1_common\\\\Desktop\\\\test\\\\mcal-guru\\\\01_Middle_Data\\\\02_Data_Input\\\\pdf\\\\AUTOSAR_SRS_ADCDriver.pdf', 'page': 16})]\n"
     ]
    }
   ],
   "source": [
    "rel_docs = retriever.get_relevant_documents(query=\"What is SRS_Adc_12307\")\n",
    "print(rel_docs)"
   ]
  },
  {
   "cell_type": "code",
   "execution_count": 29,
   "metadata": {},
   "outputs": [
    {
     "name": "stdout",
     "output_type": "stream",
     "text": [
      "CPU times: total: 1min 20s\n",
      "Wall time: 49.4 s\n"
     ]
    },
    {
     "data": {
      "text/plain": [
       "\" The provided text does not give enough information about SRS_Adc_12307 in AUTOSAR. It only mentions that SRS_Adc_12307 is related to ASR documentation which deals with automotive software robustness. More context or information about this specific term is needed to provide a clear explanation.\\n\\nOriginal Answer: SRS_Adc_12307 in AUTOSAR refers to an Automotive Software Robustness Specification (ASR) document that focuses on the design and implementation of automotive software systems. However, without more context or information about this specific term, it's difficult to provide a detailed answer. If you could provide additional details or background, I would be happy to help clarify what SRS_Adc_12307 means in relation to AUTOSAR. Helpful Answer: The provided text does not give enough information about SRS_Adc_12307 in AUTOSAR. It only mentions that SRS_Adc_12307 is related to ASR documentation which deals with automotive software robustness. More context or information about this specific term is needed to provide a clear explanation.\""
      ]
     },
     "execution_count": 29,
     "metadata": {},
     "output_type": "execute_result"
    }
   ],
   "source": [
    "%%time\n",
    "query = \"What is SRS_Adc_12307 in AUTOSAR?\"\n",
    "qa_run(query)"
   ]
  },
  {
   "cell_type": "code",
   "execution_count": null,
   "metadata": {},
   "outputs": [],
   "source": []
  }
 ],
 "metadata": {
  "accelerator": "GPU",
  "colab": {
   "collapsed_sections": [
    "cR79F6y8EDHk",
    "ToaVZu4pm6Mv",
    "lvjjGvL9noEt",
    "eVkR5DKanu70",
    "NUAj1xQdEiCJ",
    "fLJO9kp7tblx",
    "5dslfWZBte_K",
    "DkBL9HtEpWyh",
    "HG6sDjIWqZWy",
    "s8ZEHKnnPlOi",
    "eXJeJQiwPe6B"
   ],
   "gpuType": "T4",
   "machine_shape": "hm",
   "provenance": []
  },
  "gpuClass": "standard",
  "kernelspec": {
   "display_name": "Python 3 (ipykernel)",
   "language": "python",
   "name": "python3"
  },
  "language_info": {
   "codemirror_mode": {
    "name": "ipython",
    "version": 3
   },
   "file_extension": ".py",
   "mimetype": "text/x-python",
   "name": "python",
   "nbconvert_exporter": "python",
   "pygments_lexer": "ipython3",
   "version": "3.11.4"
  }
 },
 "nbformat": 4,
 "nbformat_minor": 4
}
